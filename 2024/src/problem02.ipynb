{
 "cells": [
  {
   "cell_type": "markdown",
   "metadata": {},
   "source": [
    "# Problem 02"
   ]
  },
  {
   "cell_type": "code",
   "execution_count": 33,
   "metadata": {
    "vscode": {
     "languageId": "r"
    }
   },
   "outputs": [
    {
     "name": "stderr",
     "output_type": "stream",
     "text": [
      "Warning message in readLines(file(\"../inputs/02.txt\", open = \"r\")):\n",
      "“incomplete final line found on '../inputs/02.txt'”\n"
     ]
    },
    {
     "name": "stdout",
     "output_type": "stream",
     "text": [
      "[1] 341\n"
     ]
    }
   ],
   "source": [
    "lines <- readLines(file(\"../inputs/02.txt\", open=\"r\"))\n",
    "out <- lapply(lines, function(x) {\n",
    "  x <- unlist(strsplit(x, \" \"))\n",
    "  x <- as.numeric(x)\n",
    "  y <- -1\n",
    "  d <- 0\n",
    "  for (i in x) {\n",
    "    if (y == -1) {\n",
    "      y <- i\n",
    "    } else {\n",
    "      new_d <- y - i\n",
    "      # multiply two differences - if they are negative or 0 it is invalid\n",
    "      if (d != 0 && new_d * d < 0) {\n",
    "        return(0)\n",
    "      }\n",
    "      if (new_d == 0) {\n",
    "        return(0)\n",
    "      }\n",
    "      # it is invalid if larger than 3\n",
    "      if (abs(new_d) > 3){\n",
    "        return(0)\n",
    "      }\n",
    "      d <- new_d\n",
    "      y <- i\n",
    "    }\n",
    "  }\n",
    "  return(1)\n",
    "})\n",
    "print(sum(unlist(out)))"
   ]
  },
  {
   "cell_type": "code",
   "execution_count": 35,
   "metadata": {
    "vscode": {
     "languageId": "r"
    }
   },
   "outputs": [
    {
     "name": "stdout",
     "output_type": "stream",
     "text": [
      "[1] 404\n"
     ]
    }
   ],
   "source": [
    "out2 <- lapply(lines, function(x) {\n",
    "  x <- unlist(strsplit(x, \" \"))\n",
    "  x <- as.numeric(x)\n",
    "  for (j in 0:length(x)) {\n",
    "    ret <- 1\n",
    "    if (j == 0) {\n",
    "      x_2 <- x\n",
    "    } else {\n",
    "      x_2 <- x[-j]\n",
    "    }\n",
    "    y <- -1\n",
    "    d <- 0\n",
    "    for (i in x_2) {\n",
    "      if (y == -1) {\n",
    "        y <- i\n",
    "      } else {\n",
    "        new_d <- y - i\n",
    "        # multiply two differences - if they are negative or 0 it is invalid\n",
    "        if (d != 0 && new_d * d < 0) {\n",
    "          ret <- 0\n",
    "          break\n",
    "        }\n",
    "        if (new_d == 0) {\n",
    "          ret <- 0\n",
    "          break\n",
    "        }\n",
    "        # it is invalid if larger than 3\n",
    "        if (abs(new_d) > 3){\n",
    "          ret <- 0\n",
    "          break\n",
    "        }\n",
    "        d <- new_d\n",
    "        y <- i\n",
    "      }\n",
    "    }\n",
    "    if (ret == 1) {\n",
    "      return(1)\n",
    "    }\n",
    "  }\n",
    "  return(0)\n",
    "})\n",
    "print(sum(unlist(out2)))"
   ]
  }
 ],
 "metadata": {
  "kernelspec": {
   "display_name": "R",
   "language": "R",
   "name": "ir"
  },
  "language_info": {
   "codemirror_mode": "r",
   "file_extension": ".r",
   "mimetype": "text/x-r-source",
   "name": "R",
   "pygments_lexer": "r",
   "version": "4.4.2"
  }
 },
 "nbformat": 4,
 "nbformat_minor": 2
}
